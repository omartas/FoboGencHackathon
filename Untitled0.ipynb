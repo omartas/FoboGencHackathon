{
  "nbformat": 4,
  "nbformat_minor": 0,
  "metadata": {
    "colab": {
      "provenance": [],
      "toc_visible": true,
      "authorship_tag": "ABX9TyPgY6xLX7bTIFF5gq9FVtIX",
      "include_colab_link": true
    },
    "kernelspec": {
      "name": "python3",
      "display_name": "Python 3"
    },
    "language_info": {
      "name": "python"
    },
    "accelerator": "GPU",
    "gpuClass": "standard"
  },
  "cells": [
    {
      "cell_type": "markdown",
      "metadata": {
        "id": "view-in-github",
        "colab_type": "text"
      },
      "source": [
        "<a href=\"https://colab.research.google.com/github/omartas/FoboGencHackathon/blob/master/Untitled0.ipynb\" target=\"_parent\"><img src=\"https://colab.research.google.com/assets/colab-badge.svg\" alt=\"Open In Colab\"/></a>"
      ]
    },
    {
      "cell_type": "code",
      "source": [
        "from google.colab.patches import cv2_imshow"
      ],
      "metadata": {
        "id": "oOygv2VMcIRL"
      },
      "execution_count": null,
      "outputs": []
    },
    {
      "cell_type": "code",
      "source": [
        "from google.colab import drive\n",
        "drive.mount('/content/gdrive')"
      ],
      "metadata": {
        "id": "GLjlCutPgqMJ",
        "colab": {
          "base_uri": "https://localhost:8080/"
        },
        "outputId": "bc8a7a56-e0ea-4597-82c9-f96b02d87a86"
      },
      "execution_count": null,
      "outputs": [
        {
          "output_type": "stream",
          "name": "stdout",
          "text": [
            "Mounted at /content/gdrive\n"
          ]
        }
      ]
    },
    {
      "cell_type": "code",
      "source": [
        "path = '/content/gdrive/MyDrive/datasets/yuzler1'"
      ],
      "metadata": {
        "id": "HxrHjuMLo97T"
      },
      "execution_count": null,
      "outputs": []
    },
    {
      "cell_type": "code",
      "execution_count": null,
      "metadata": {
        "id": "LJ7PxruBba5n"
      },
      "outputs": [],
      "source": [
        "# Step 1 – Import all required libraries.\n",
        "import cv2\n",
        "import pandas as pd\n",
        "import os\n",
        "import seaborn as sns\n",
        "import matplotlib.pyplot as plt\n",
        "from keras.preprocessing.image import ImageDataGenerator\n",
        "from keras.models import Sequential\n",
        "from keras.layers import Conv2D, Dense, Dropout, Flatten, AveragePooling2D, GlobalAveragePooling2D,GlobalMaxPooling2D,MaxPooling2D\n",
        "from keras.callbacks import ModelCheckpoint\n",
        "import numpy as np\n",
        "from sklearn.model_selection import train_test_split\n",
        "from keras.utils import np_utils\n",
        "\n",
        "np.random.seed(42)\n",
        "#tf.random.set_seed(42)"
      ]
    },
    {
      "cell_type": "code",
      "source": [],
      "metadata": {
        "id": "Ha0PT54cgr4x"
      },
      "execution_count": null,
      "outputs": []
    },
    {
      "cell_type": "code",
      "source": [],
      "metadata": {
        "id": "THbbZR6Bgr_O"
      },
      "execution_count": null,
      "outputs": []
    },
    {
      "cell_type": "code",
      "source": [
        "# Step 2 – Read the input images and extract their labels.\n",
        "all_images = os.listdir(path)\n",
        "ranges = ['1-10','11-20','21-30','31-40','41-50','51-60','61-70','71-80','81-90','90-100']\n",
        "\n",
        "X = []\n",
        "y = []\n",
        "l = len(all_images)\n",
        "print(l)\n",
        "for a in range(l):\n",
        "    foto = cv2.imread(path+\"/\"+ all_images[a],0)\n",
        "    X.append(cv2.imread(path+\"/\"+ all_images[a],0))\n",
        "    age = int(all_images[a].split('_')[0])\n",
        "    \n",
        "    if age>=1 and age<=2:\n",
        "        y.append(0)\n",
        "    elif age>=3 and age<=9:\n",
        "        y.append(1)\n",
        "    elif age>=10 and age<=20:\n",
        "        y.append(2)\n",
        "    elif age>=21 and age<=27:\n",
        "        y.append(3)\n",
        "    elif age>=28 and age<=45:\n",
        "        y.append(4)\n",
        "    elif age>=46 and age<=65:\n",
        "        y.append(5)\n",
        "    elif age>=66 and age<=116:\n",
        "        y.append(6)\n",
        "    #print(str(a)+'/'+str(l))\n",
        "\n",
        "#np.savez_compressed('compressed image data.npz',x=X,y=y)"
      ],
      "metadata": {
        "colab": {
          "base_uri": "https://localhost:8080/"
        },
        "id": "ac5TWw8IbbzS",
        "outputId": "821a227a-4606-4096-e0f9-88928209b47c"
      },
      "execution_count": null,
      "outputs": [
        {
          "output_type": "stream",
          "name": "stdout",
          "text": [
            "8504\n"
          ]
        }
      ]
    },
    {
      "cell_type": "code",
      "source": [
        "print(l)"
      ],
      "metadata": {
        "colab": {
          "base_uri": "https://localhost:8080/"
        },
        "id": "aDGuOnDlfIlo",
        "outputId": "b5e2df08-75d9-49a8-bb3e-feac93c63625"
      },
      "execution_count": null,
      "outputs": [
        {
          "output_type": "stream",
          "name": "stdout",
          "text": [
            "8504\n"
          ]
        }
      ]
    },
    {
      "cell_type": "code",
      "source": [
        "for a in range(6):\n",
        "    print(y.count(a))"
      ],
      "metadata": {
        "id": "80niI5P_fJEf",
        "colab": {
          "base_uri": "https://localhost:8080/"
        },
        "outputId": "4a94c43d-2136-49b6-a486-d8e7001e2623"
      },
      "execution_count": null,
      "outputs": [
        {
          "output_type": "stream",
          "name": "stdout",
          "text": [
            "1216\n",
            "1159\n",
            "1126\n",
            "997\n",
            "1615\n",
            "1568\n"
          ]
        }
      ]
    },
    {
      "cell_type": "code",
      "source": [],
      "metadata": {
        "id": "IJvI6-kbldc3"
      },
      "execution_count": null,
      "outputs": []
    },
    {
      "cell_type": "code",
      "source": [],
      "metadata": {
        "id": "p4FwtmhGfJJv"
      },
      "execution_count": null,
      "outputs": []
    },
    {
      "cell_type": "code",
      "source": [
        "np.savez_compressed('compressed image data.npz',x=X,y=y)"
      ],
      "metadata": {
        "id": "WTzJXfNjbb5f"
      },
      "execution_count": null,
      "outputs": []
    },
    {
      "cell_type": "code",
      "source": [
        "loaded = np.load('compressed image data.npz',allow_pickle=True)\n",
        "\n",
        "X = loaded['x']\n",
        "y = loaded['y']"
      ],
      "metadata": {
        "id": "sYIH10TouHVr"
      },
      "execution_count": null,
      "outputs": []
    },
    {
      "cell_type": "code",
      "source": [],
      "metadata": {
        "id": "t_VtdAE5oNhL"
      },
      "execution_count": null,
      "outputs": []
    },
    {
      "cell_type": "code",
      "source": [
        "plt.imshow(X[5000],cmap='gray')"
      ],
      "metadata": {
        "id": "5uq7OEiJuJ2a",
        "colab": {
          "base_uri": "https://localhost:8080/",
          "height": 286
        },
        "outputId": "19d8e90c-c4e0-49a6-d391-62646ae083d6"
      },
      "execution_count": null,
      "outputs": [
        {
          "output_type": "execute_result",
          "data": {
            "text/plain": [
              "<matplotlib.image.AxesImage at 0x7f0d49b2cd00>"
            ]
          },
          "metadata": {},
          "execution_count": 8
        },
        {
          "output_type": "display_data",
          "data": {
            "text/plain": [
              "<Figure size 432x288 with 1 Axes>"
            ],
            "image/png": "[encoded data removed]"
          },
          "metadata": {
            "needs_background": "light"
          }
        }
      ]
    },
    {
      "cell_type": "code",
      "source": [
        "y = np_utils.to_categorical(y)"
      ],
      "metadata": {
        "id": "tLo1tZ79bb8q"
      },
      "execution_count": null,
      "outputs": []
    },
    {
      "cell_type": "code",
      "source": [
        "X.shape"
      ],
      "metadata": {
        "colab": {
          "base_uri": "https://localhost:8080/"
        },
        "id": "UYt8gaXUpcXI",
        "outputId": "ab51602b-fb51-472f-bef6-7b5a231f7901"
      },
      "execution_count": null,
      "outputs": [
        {
          "output_type": "execute_result",
          "data": {
            "text/plain": [
              "(8504, 225, 225)"
            ]
          },
          "metadata": {},
          "execution_count": 10
        }
      ]
    },
    {
      "cell_type": "code",
      "source": [
        "X_train, X_test, y_train, y_test = train_test_split(X, y, test_size=0.20, random_state=42)\n",
        "\n",
        "X_train = np.array(X_train).reshape(-1,225,225,1)\n",
        "X_test = np.array(X_test).reshape(-1,225,225,1)"
      ],
      "metadata": {
        "id": "_g3u01AupUmP"
      },
      "execution_count": null,
      "outputs": []
    },
    {
      "cell_type": "code",
      "source": [
        "IMG_HEIGHT = 225\n",
        "IMG_WIDTH = 225\n",
        "IMG_SIZE = (IMG_HEIGHT,IMG_WIDTH)\n",
        "batch_size = 128\n",
        "epochs = 60"
      ],
      "metadata": {
        "id": "so6NMYhDo-2b"
      },
      "execution_count": null,
      "outputs": []
    },
    {
      "cell_type": "code",
      "source": [
        "train_datagen = ImageDataGenerator(rescale=1./255,\n",
        "                                   horizontal_flip=True,\n",
        "                                   shear_range=0.2,\n",
        "                                   zoom_range=0.2,\n",
        "                                   height_shift_range=0.1,\n",
        "                                   width_shift_range=0.1,\n",
        "                                   rotation_range=15)\n",
        "\n",
        "test_datagen = ImageDataGenerator(rescale=1./255)"
      ],
      "metadata": {
        "id": "UROEpGKVkMs4"
      },
      "execution_count": null,
      "outputs": []
    },
    {
      "cell_type": "code",
      "source": [
        "train_data = train_datagen.flow(X_train,y_train,batch_size)\n",
        "\n",
        "test_data = test_datagen.flow(X_test,y_test,batch_size)"
      ],
      "metadata": {
        "id": "8GueJuAxkPmg"
      },
      "execution_count": null,
      "outputs": []
    },
    {
      "cell_type": "code",
      "source": [
        "final_cnn = Sequential()\n",
        "\n",
        "final_cnn.add(Conv2D(filters=32, kernel_size=5, activation='relu', input_shape=(225, 225, 1)))    # 3rd dim = 1 for grayscale images.\n",
        "final_cnn.add(MaxPooling2D(pool_size=(2,2)))\n",
        "\n",
        "final_cnn.add(Conv2D(filters=64, kernel_size=7, activation='relu'))\n",
        "final_cnn.add(MaxPooling2D(pool_size=(2,2)))\n",
        "\n",
        "final_cnn.add(Conv2D(filters=128, kernel_size=9, activation='relu'))\n",
        "final_cnn.add(MaxPooling2D(pool_size=(2,2)))\n",
        "\n",
        "final_cnn.add(Conv2D(filters=256, kernel_size=11, activation='relu'))\n",
        "final_cnn.add(MaxPooling2D(pool_size=(2,2)))\n",
        "\n",
        "final_cnn.add(Conv2D(filters=512, kernel_size=5, activation='relu'))\n",
        "final_cnn.add(MaxPooling2D(pool_size=(2,2)))\n",
        "\n",
        "final_cnn.add(GlobalMaxPooling2D())\n",
        "\n",
        "final_cnn.add(Dense(132, activation='relu'))\n",
        "\n",
        "final_cnn.add(Dense(7, activation='softmax'))\n",
        "\n",
        "final_cnn.compile(loss='categorical_crossentropy', optimizer='adam', metrics=['accuracy'])\n",
        "\n",
        "final_cnn.summary()"
      ],
      "metadata": {
        "colab": {
          "base_uri": "https://localhost:8080/"
        },
        "id": "EEf4Zy2BkQRh",
        "outputId": "9b8a2744-544a-43ae-9672-5436dc4941d1"
      },
      "execution_count": null,
      "outputs": [
        {
          "output_type": "stream",
          "name": "stdout",
          "text": [
            "Model: \"sequential_59\"\n",
            "_________________________________________________________________\n",
            " Layer (type)                Output Shape              Param #   \n",
            "=================================================================\n",
            " conv2d_311 (Conv2D)         (None, 221, 221, 32)      832       \n",
            "                                                                 \n",
            " max_pooling2d_267 (MaxPooli  (None, 110, 110, 32)     0         \n",
            " ng2D)                                                           \n",
            "                                                                 \n",
            " conv2d_312 (Conv2D)         (None, 104, 104, 64)      100416    \n",
            "                                                                 \n",
            " max_pooling2d_268 (MaxPooli  (None, 52, 52, 64)       0         \n",
            " ng2D)                                                           \n",
            "                                                                 \n",
            " conv2d_313 (Conv2D)         (None, 44, 44, 128)       663680    \n",
            "                                                                 \n",
            " max_pooling2d_269 (MaxPooli  (None, 22, 22, 128)      0         \n",
            " ng2D)                                                           \n",
            "                                                                 \n",
            " conv2d_314 (Conv2D)         (None, 12, 12, 256)       3965184   \n",
            "                                                                 \n",
            " max_pooling2d_270 (MaxPooli  (None, 6, 6, 256)        0         \n",
            " ng2D)                                                           \n",
            "                                                                 \n",
            " conv2d_315 (Conv2D)         (None, 2, 2, 512)         3277312   \n",
            "                                                                 \n",
            " max_pooling2d_271 (MaxPooli  (None, 1, 1, 512)        0         \n",
            " ng2D)                                                           \n",
            "                                                                 \n",
            " global_max_pooling2d_13 (Gl  (None, 512)              0         \n",
            " obalMaxPooling2D)                                               \n",
            "                                                                 \n",
            " dense_26 (Dense)            (None, 132)               67716     \n",
            "                                                                 \n",
            " dense_27 (Dense)            (None, 7)                 931       \n",
            "                                                                 \n",
            "=================================================================\n",
            "Total params: 8,076,071\n",
            "Trainable params: 8,076,071\n",
            "Non-trainable params: 0\n",
            "_________________________________________________________________\n"
          ]
        }
      ]
    },
    {
      "cell_type": "code",
      "source": [],
      "metadata": {
        "id": "wzE_2FRF5-Mq"
      },
      "execution_count": null,
      "outputs": []
    },
    {
      "cell_type": "code",
      "source": [
        "checkpoint = ModelCheckpoint(filepath=\"/content/gdrive/MyDrive/final_cnn_model_checkpoint2.h5\",\n",
        "                             monitor='val_accuracy',\n",
        "                             save_best_only=True,\n",
        "                             save_weights_only=False,\n",
        "                             verbose=1\n",
        "                            )"
      ],
      "metadata": {
        "id": "L5HIb76hkQT6"
      },
      "execution_count": null,
      "outputs": []
    },
    {
      "cell_type": "code",
      "source": [
        "history = final_cnn.fit(train_data,\n",
        "                    batch_size=batch_size,\n",
        "                    validation_data=test_data,\n",
        "                    epochs=epochs,\n",
        "                    callbacks=[checkpoint],\n",
        "                    shuffle=False    \n",
        "                    ) "
      ],
      "metadata": {
        "colab": {
          "base_uri": "https://localhost:8080/"
        },
        "id": "ThjgzcaNkQWW",
        "outputId": "43ff2add-5701-4ff0-b90f-1b14d5c54814"
      },
      "execution_count": null,
      "outputs": [
        {
          "output_type": "stream",
          "name": "stdout",
          "text": [
            "Epoch 1/60\n",
            "54/54 [==============================] - ETA: 0s - loss: 1.9221 - accuracy: 0.1948\n",
            "Epoch 1: val_accuracy improved from -inf to 0.23574, saving model to /content/gdrive/MyDrive/final_cnn_model_checkpoint2.h5\n",
            "54/54 [==============================] - 44s 554ms/step - loss: 1.9221 - accuracy: 0.1948 - val_loss: 1.8958 - val_accuracy: 0.2357\n",
            "Epoch 2/60\n",
            "53/54 [============================>.] - ETA: 0s - loss: 1.8840 - accuracy: 0.2379\n",
            "Epoch 2: val_accuracy improved from 0.23574 to 0.23986, saving model to /content/gdrive/MyDrive/final_cnn_model_checkpoint2.h5\n",
            "54/54 [==============================] - 29s 526ms/step - loss: 1.8841 - accuracy: 0.2377 - val_loss: 1.8614 - val_accuracy: 0.2399\n",
            "Epoch 3/60\n",
            "53/54 [============================>.] - ETA: 0s - loss: 1.8552 - accuracy: 0.2524\n",
            "Epoch 3: val_accuracy improved from 0.23986 to 0.25867, saving model to /content/gdrive/MyDrive/final_cnn_model_checkpoint2.h5\n",
            "54/54 [==============================] - 29s 523ms/step - loss: 1.8554 - accuracy: 0.2522 - val_loss: 1.8331 - val_accuracy: 0.2587\n",
            "Epoch 4/60\n",
            "54/54 [==============================] - ETA: 0s - loss: 1.8449 - accuracy: 0.2615\n",
            "Epoch 4: val_accuracy improved from 0.25867 to 0.26631, saving model to /content/gdrive/MyDrive/final_cnn_model_checkpoint2.h5\n",
            "54/54 [==============================] - 29s 533ms/step - loss: 1.8449 - accuracy: 0.2615 - val_loss: 1.8276 - val_accuracy: 0.2663\n",
            "Epoch 5/60\n",
            "53/54 [============================>.] - ETA: 0s - loss: 1.8221 - accuracy: 0.2759\n",
            "Epoch 5: val_accuracy did not improve from 0.26631\n",
            "54/54 [==============================] - 28s 523ms/step - loss: 1.8221 - accuracy: 0.2759 - val_loss: 1.8568 - val_accuracy: 0.2487\n",
            "Epoch 6/60\n",
            "53/54 [============================>.] - ETA: 0s - loss: 1.8174 - accuracy: 0.2734\n",
            "Epoch 6: val_accuracy improved from 0.26631 to 0.27631, saving model to /content/gdrive/MyDrive/final_cnn_model_checkpoint2.h5\n",
            "54/54 [==============================] - 29s 533ms/step - loss: 1.8177 - accuracy: 0.2734 - val_loss: 1.8019 - val_accuracy: 0.2763\n",
            "Epoch 7/60\n",
            "53/54 [============================>.] - ETA: 0s - loss: 1.7989 - accuracy: 0.2860\n",
            "Epoch 7: val_accuracy improved from 0.27631 to 0.29101, saving model to /content/gdrive/MyDrive/final_cnn_model_checkpoint2.h5\n",
            "54/54 [==============================] - 29s 530ms/step - loss: 1.7989 - accuracy: 0.2861 - val_loss: 1.7645 - val_accuracy: 0.2910\n",
            "Epoch 8/60\n",
            "53/54 [============================>.] - ETA: 0s - loss: 1.7783 - accuracy: 0.2975\n",
            "Epoch 8: val_accuracy improved from 0.29101 to 0.30335, saving model to /content/gdrive/MyDrive/final_cnn_model_checkpoint2.h5\n",
            "54/54 [==============================] - 29s 527ms/step - loss: 1.7784 - accuracy: 0.2972 - val_loss: 1.7348 - val_accuracy: 0.3034\n",
            "Epoch 9/60\n",
            "53/54 [============================>.] - ETA: 0s - loss: 1.7631 - accuracy: 0.3016\n",
            "Epoch 9: val_accuracy improved from 0.30335 to 0.30453, saving model to /content/gdrive/MyDrive/final_cnn_model_checkpoint2.h5\n",
            "54/54 [==============================] - 29s 531ms/step - loss: 1.7624 - accuracy: 0.3022 - val_loss: 1.7242 - val_accuracy: 0.3045\n",
            "Epoch 10/60\n",
            "53/54 [============================>.] - ETA: 0s - loss: 1.7567 - accuracy: 0.2963\n",
            "Epoch 10: val_accuracy improved from 0.30453 to 0.32510, saving model to /content/gdrive/MyDrive/final_cnn_model_checkpoint2.h5\n",
            "54/54 [==============================] - 29s 529ms/step - loss: 1.7569 - accuracy: 0.2959 - val_loss: 1.7160 - val_accuracy: 0.3251\n",
            "Epoch 11/60\n",
            "53/54 [============================>.] - ETA: 0s - loss: 1.7462 - accuracy: 0.3081\n",
            "Epoch 11: val_accuracy did not improve from 0.32510\n",
            "54/54 [==============================] - 28s 526ms/step - loss: 1.7460 - accuracy: 0.3084 - val_loss: 1.6951 - val_accuracy: 0.3157\n",
            "Epoch 12/60\n",
            "53/54 [============================>.] - ETA: 0s - loss: 1.7198 - accuracy: 0.3175\n",
            "Epoch 12: val_accuracy did not improve from 0.32510\n",
            "54/54 [==============================] - 28s 522ms/step - loss: 1.7200 - accuracy: 0.3172 - val_loss: 1.9931 - val_accuracy: 0.2140\n",
            "Epoch 13/60\n",
            "53/54 [============================>.] - ETA: 0s - loss: 1.7543 - accuracy: 0.3035\n",
            "Epoch 13: val_accuracy improved from 0.32510 to 0.33451, saving model to /content/gdrive/MyDrive/final_cnn_model_checkpoint2.h5\n",
            "54/54 [==============================] - 28s 525ms/step - loss: 1.7542 - accuracy: 0.3032 - val_loss: 1.6931 - val_accuracy: 0.3345\n",
            "Epoch 14/60\n",
            "53/54 [============================>.] - ETA: 0s - loss: 1.6951 - accuracy: 0.3244\n",
            "Epoch 14: val_accuracy did not improve from 0.33451\n",
            "54/54 [==============================] - 28s 519ms/step - loss: 1.6951 - accuracy: 0.3244 - val_loss: 1.6581 - val_accuracy: 0.3304\n",
            "Epoch 15/60\n",
            "53/54 [============================>.] - ETA: 0s - loss: 1.6708 - accuracy: 0.3314\n",
            "Epoch 15: val_accuracy improved from 0.33451 to 0.37507, saving model to /content/gdrive/MyDrive/final_cnn_model_checkpoint2.h5\n",
            "54/54 [==============================] - 29s 531ms/step - loss: 1.6705 - accuracy: 0.3313 - val_loss: 1.5922 - val_accuracy: 0.3751\n",
            "Epoch 16/60\n",
            "53/54 [============================>.] - ETA: 0s - loss: 1.6459 - accuracy: 0.3508\n",
            "Epoch 16: val_accuracy did not improve from 0.37507\n",
            "54/54 [==============================] - 29s 530ms/step - loss: 1.6469 - accuracy: 0.3506 - val_loss: 1.5682 - val_accuracy: 0.3721\n",
            "Epoch 17/60\n",
            "53/54 [============================>.] - ETA: 0s - loss: 1.6331 - accuracy: 0.3551\n",
            "Epoch 17: val_accuracy did not improve from 0.37507\n",
            "54/54 [==============================] - 28s 516ms/step - loss: 1.6329 - accuracy: 0.3554 - val_loss: 1.5621 - val_accuracy: 0.3692\n",
            "Epoch 18/60\n",
            "53/54 [============================>.] - ETA: 0s - loss: 1.6051 - accuracy: 0.3606\n",
            "Epoch 18: val_accuracy improved from 0.37507 to 0.39741, saving model to /content/gdrive/MyDrive/final_cnn_model_checkpoint2.h5\n",
            "54/54 [==============================] - 29s 528ms/step - loss: 1.6046 - accuracy: 0.3610 - val_loss: 1.5320 - val_accuracy: 0.3974\n",
            "Epoch 19/60\n",
            "53/54 [============================>.] - ETA: 0s - loss: 1.5549 - accuracy: 0.3847\n",
            "Epoch 19: val_accuracy did not improve from 0.39741\n",
            "54/54 [==============================] - 28s 526ms/step - loss: 1.5541 - accuracy: 0.3850 - val_loss: 1.5837 - val_accuracy: 0.3751\n",
            "Epoch 20/60\n",
            "53/54 [============================>.] - ETA: 0s - loss: 1.5613 - accuracy: 0.3816\n",
            "Epoch 20: val_accuracy improved from 0.39741 to 0.40447, saving model to /content/gdrive/MyDrive/final_cnn_model_checkpoint2.h5\n",
            "54/54 [==============================] - 29s 528ms/step - loss: 1.5612 - accuracy: 0.3816 - val_loss: 1.4833 - val_accuracy: 0.4045\n",
            "Epoch 21/60\n",
            "53/54 [============================>.] - ETA: 0s - loss: 1.5363 - accuracy: 0.3871\n",
            "Epoch 21: val_accuracy improved from 0.40447 to 0.41329, saving model to /content/gdrive/MyDrive/final_cnn_model_checkpoint2.h5\n",
            "54/54 [==============================] - 29s 528ms/step - loss: 1.5375 - accuracy: 0.3864 - val_loss: 1.4410 - val_accuracy: 0.4133\n",
            "Epoch 22/60\n",
            "53/54 [============================>.] - ETA: 0s - loss: 1.5201 - accuracy: 0.3902\n",
            "Epoch 22: val_accuracy improved from 0.41329 to 0.41917, saving model to /content/gdrive/MyDrive/final_cnn_model_checkpoint2.h5\n",
            "54/54 [==============================] - 29s 528ms/step - loss: 1.5197 - accuracy: 0.3907 - val_loss: 1.4406 - val_accuracy: 0.4192\n",
            "Epoch 23/60\n",
            "53/54 [============================>.] - ETA: 0s - loss: 1.4973 - accuracy: 0.4079\n",
            "Epoch 23: val_accuracy did not improve from 0.41917\n",
            "54/54 [==============================] - 28s 512ms/step - loss: 1.4965 - accuracy: 0.4083 - val_loss: 1.4581 - val_accuracy: 0.4150\n",
            "Epoch 24/60\n",
            "53/54 [============================>.] - ETA: 0s - loss: 1.5026 - accuracy: 0.3956\n",
            "Epoch 24: val_accuracy improved from 0.41917 to 0.42916, saving model to /content/gdrive/MyDrive/final_cnn_model_checkpoint2.h5\n",
            "54/54 [==============================] - 28s 517ms/step - loss: 1.5023 - accuracy: 0.3957 - val_loss: 1.4282 - val_accuracy: 0.4292\n",
            "Epoch 25/60\n",
            "53/54 [============================>.] - ETA: 0s - loss: 1.5327 - accuracy: 0.3878\n",
            "Epoch 25: val_accuracy did not improve from 0.42916\n",
            "54/54 [==============================] - 28s 511ms/step - loss: 1.5325 - accuracy: 0.3878 - val_loss: 1.4088 - val_accuracy: 0.4274\n",
            "Epoch 26/60\n",
            "53/54 [============================>.] - ETA: 0s - loss: 1.4861 - accuracy: 0.4058\n",
            "Epoch 26: val_accuracy did not improve from 0.42916\n",
            "54/54 [==============================] - 28s 516ms/step - loss: 1.4859 - accuracy: 0.4054 - val_loss: 1.4402 - val_accuracy: 0.4180\n",
            "Epoch 27/60\n",
            "53/54 [============================>.] - ETA: 0s - loss: 1.4513 - accuracy: 0.4204\n",
            "Epoch 27: val_accuracy improved from 0.42916 to 0.43621, saving model to /content/gdrive/MyDrive/final_cnn_model_checkpoint2.h5\n",
            "54/54 [==============================] - 28s 520ms/step - loss: 1.4515 - accuracy: 0.4203 - val_loss: 1.4062 - val_accuracy: 0.4362\n",
            "Epoch 28/60\n",
            "53/54 [============================>.] - ETA: 0s - loss: 1.4608 - accuracy: 0.4173\n",
            "Epoch 28: val_accuracy did not improve from 0.43621\n",
            "54/54 [==============================] - 28s 509ms/step - loss: 1.4605 - accuracy: 0.4173 - val_loss: 1.4396 - val_accuracy: 0.4215\n",
            "Epoch 29/60\n",
            "53/54 [============================>.] - ETA: 0s - loss: 1.4446 - accuracy: 0.4185\n",
            "Epoch 29: val_accuracy did not improve from 0.43621\n",
            "54/54 [==============================] - 28s 513ms/step - loss: 1.4451 - accuracy: 0.4181 - val_loss: 1.4884 - val_accuracy: 0.4068\n",
            "Epoch 30/60\n",
            "53/54 [============================>.] - ETA: 0s - loss: 1.4761 - accuracy: 0.4065\n",
            "Epoch 30: val_accuracy did not improve from 0.43621\n",
            "54/54 [==============================] - 28s 512ms/step - loss: 1.4755 - accuracy: 0.4070 - val_loss: 1.3974 - val_accuracy: 0.4256\n",
            "Epoch 31/60\n",
            "53/54 [============================>.] - ETA: 0s - loss: 1.4385 - accuracy: 0.4273\n",
            "Epoch 31: val_accuracy improved from 0.43621 to 0.44974, saving model to /content/gdrive/MyDrive/final_cnn_model_checkpoint2.h5\n",
            "54/54 [==============================] - 28s 516ms/step - loss: 1.4398 - accuracy: 0.4270 - val_loss: 1.3713 - val_accuracy: 0.4497\n",
            "Epoch 32/60\n",
            "53/54 [============================>.] - ETA: 0s - loss: 1.4315 - accuracy: 0.4276\n",
            "Epoch 32: val_accuracy did not improve from 0.44974\n",
            "54/54 [==============================] - 28s 510ms/step - loss: 1.4316 - accuracy: 0.4278 - val_loss: 1.3940 - val_accuracy: 0.4397\n",
            "Epoch 33/60\n",
            "53/54 [============================>.] - ETA: 0s - loss: 1.4273 - accuracy: 0.4248\n",
            "Epoch 33: val_accuracy did not improve from 0.44974\n",
            "54/54 [==============================] - 28s 509ms/step - loss: 1.4276 - accuracy: 0.4248 - val_loss: 1.3858 - val_accuracy: 0.4362\n",
            "Epoch 34/60\n",
            "53/54 [============================>.] - ETA: 0s - loss: 1.4815 - accuracy: 0.4123\n",
            "Epoch 34: val_accuracy did not improve from 0.44974\n",
            "54/54 [==============================] - 28s 511ms/step - loss: 1.4815 - accuracy: 0.4123 - val_loss: 1.4139 - val_accuracy: 0.4274\n",
            "Epoch 35/60\n",
            "53/54 [============================>.] - ETA: 0s - loss: 1.4229 - accuracy: 0.4309\n",
            "Epoch 35: val_accuracy did not improve from 0.44974\n",
            "54/54 [==============================] - 28s 519ms/step - loss: 1.4227 - accuracy: 0.4303 - val_loss: 1.3989 - val_accuracy: 0.4286\n",
            "Epoch 36/60\n",
            "53/54 [============================>.] - ETA: 0s - loss: 1.4169 - accuracy: 0.4312\n",
            "Epoch 36: val_accuracy did not improve from 0.44974\n",
            "54/54 [==============================] - 28s 506ms/step - loss: 1.4172 - accuracy: 0.4313 - val_loss: 1.4030 - val_accuracy: 0.4215\n",
            "Epoch 37/60\n",
            "53/54 [============================>.] - ETA: 0s - loss: 1.3986 - accuracy: 0.4463\n",
            "Epoch 37: val_accuracy improved from 0.44974 to 0.45326, saving model to /content/gdrive/MyDrive/final_cnn_model_checkpoint2.h5\n",
            "54/54 [==============================] - 28s 507ms/step - loss: 1.3986 - accuracy: 0.4463 - val_loss: 1.3573 - val_accuracy: 0.4533\n",
            "Epoch 38/60\n",
            "53/54 [============================>.] - ETA: 0s - loss: 1.3922 - accuracy: 0.4391\n",
            "Epoch 38: val_accuracy improved from 0.45326 to 0.45797, saving model to /content/gdrive/MyDrive/final_cnn_model_checkpoint2.h5\n",
            "54/54 [==============================] - 28s 516ms/step - loss: 1.3918 - accuracy: 0.4394 - val_loss: 1.3324 - val_accuracy: 0.4580\n",
            "Epoch 39/60\n",
            "53/54 [============================>.] - ETA: 0s - loss: 1.3981 - accuracy: 0.4472\n",
            "Epoch 39: val_accuracy did not improve from 0.45797\n",
            "54/54 [==============================] - 28s 516ms/step - loss: 1.3984 - accuracy: 0.4469 - val_loss: 1.4039 - val_accuracy: 0.4256\n",
            "Epoch 40/60\n",
            "53/54 [============================>.] - ETA: 0s - loss: 1.4077 - accuracy: 0.4354\n",
            "Epoch 40: val_accuracy did not improve from 0.45797\n",
            "54/54 [==============================] - 28s 512ms/step - loss: 1.4076 - accuracy: 0.4354 - val_loss: 1.3650 - val_accuracy: 0.4497\n",
            "Epoch 41/60\n",
            "53/54 [============================>.] - ETA: 0s - loss: 1.4128 - accuracy: 0.4363\n",
            "Epoch 41: val_accuracy improved from 0.45797 to 0.46032, saving model to /content/gdrive/MyDrive/final_cnn_model_checkpoint2.h5\n",
            "54/54 [==============================] - 28s 520ms/step - loss: 1.4138 - accuracy: 0.4361 - val_loss: 1.3361 - val_accuracy: 0.4603\n",
            "Epoch 42/60\n",
            "53/54 [============================>.] - ETA: 0s - loss: 1.3788 - accuracy: 0.4486\n",
            "Epoch 42: val_accuracy did not improve from 0.46032\n",
            "54/54 [==============================] - 28s 521ms/step - loss: 1.3783 - accuracy: 0.4489 - val_loss: 1.3493 - val_accuracy: 0.4515\n",
            "Epoch 43/60\n",
            "53/54 [============================>.] - ETA: 0s - loss: 1.3684 - accuracy: 0.4497\n",
            "Epoch 43: val_accuracy improved from 0.46032 to 0.46384, saving model to /content/gdrive/MyDrive/final_cnn_model_checkpoint2.h5\n",
            "54/54 [==============================] - 28s 527ms/step - loss: 1.3689 - accuracy: 0.4495 - val_loss: 1.3195 - val_accuracy: 0.4638\n",
            "Epoch 44/60\n",
            "53/54 [============================>.] - ETA: 0s - loss: 1.3803 - accuracy: 0.4540\n",
            "Epoch 44: val_accuracy did not improve from 0.46384\n",
            "54/54 [==============================] - 28s 509ms/step - loss: 1.3800 - accuracy: 0.4542 - val_loss: 1.3318 - val_accuracy: 0.4515\n",
            "Epoch 45/60\n",
            "53/54 [============================>.] - ETA: 0s - loss: 1.3764 - accuracy: 0.4531\n",
            "Epoch 45: val_accuracy did not improve from 0.46384\n",
            "54/54 [==============================] - 28s 511ms/step - loss: 1.3761 - accuracy: 0.4529 - val_loss: 1.3421 - val_accuracy: 0.4591\n",
            "Epoch 46/60\n",
            "53/54 [============================>.] - ETA: 0s - loss: 1.3532 - accuracy: 0.4561\n",
            "Epoch 46: val_accuracy did not improve from 0.46384\n",
            "54/54 [==============================] - 28s 513ms/step - loss: 1.3528 - accuracy: 0.4560 - val_loss: 1.3266 - val_accuracy: 0.4615\n",
            "Epoch 47/60\n",
            "53/54 [============================>.] - ETA: 0s - loss: 1.3418 - accuracy: 0.4561\n",
            "Epoch 47: val_accuracy did not improve from 0.46384\n",
            "54/54 [==============================] - 28s 510ms/step - loss: 1.3430 - accuracy: 0.4558 - val_loss: 1.6056 - val_accuracy: 0.3516\n",
            "Epoch 48/60\n",
            "53/54 [============================>.] - ETA: 0s - loss: 1.3792 - accuracy: 0.4512\n",
            "Epoch 48: val_accuracy did not improve from 0.46384\n",
            "54/54 [==============================] - 28s 512ms/step - loss: 1.3783 - accuracy: 0.4516 - val_loss: 1.3255 - val_accuracy: 0.4597\n",
            "Epoch 49/60\n",
            "53/54 [============================>.] - ETA: 0s - loss: 1.3424 - accuracy: 0.4642\n",
            "Epoch 49: val_accuracy improved from 0.46384 to 0.47443, saving model to /content/gdrive/MyDrive/final_cnn_model_checkpoint2.h5\n",
            "54/54 [==============================] - 28s 520ms/step - loss: 1.3424 - accuracy: 0.4639 - val_loss: 1.2968 - val_accuracy: 0.4744\n",
            "Epoch 50/60\n",
            "53/54 [============================>.] - ETA: 0s - loss: 1.3356 - accuracy: 0.4573\n",
            "Epoch 50: val_accuracy did not improve from 0.47443\n",
            "54/54 [==============================] - 28s 519ms/step - loss: 1.3357 - accuracy: 0.4569 - val_loss: 1.4040 - val_accuracy: 0.4303\n",
            "Epoch 51/60\n",
            "53/54 [============================>.] - ETA: 0s - loss: 1.3430 - accuracy: 0.4605\n",
            "Epoch 51: val_accuracy improved from 0.47443 to 0.47913, saving model to /content/gdrive/MyDrive/final_cnn_model_checkpoint2.h5\n",
            "54/54 [==============================] - 28s 524ms/step - loss: 1.3423 - accuracy: 0.4608 - val_loss: 1.2753 - val_accuracy: 0.4791\n",
            "Epoch 52/60\n",
            "53/54 [============================>.] - ETA: 0s - loss: 1.3242 - accuracy: 0.4738\n",
            "Epoch 52: val_accuracy did not improve from 0.47913\n",
            "54/54 [==============================] - 28s 525ms/step - loss: 1.3232 - accuracy: 0.4746 - val_loss: 1.2888 - val_accuracy: 0.4768\n",
            "Epoch 53/60\n",
            "53/54 [============================>.] - ETA: 0s - loss: 1.3087 - accuracy: 0.4746\n",
            "Epoch 53: val_accuracy did not improve from 0.47913\n",
            "54/54 [==============================] - 30s 544ms/step - loss: 1.3080 - accuracy: 0.4749 - val_loss: 1.3617 - val_accuracy: 0.4562\n",
            "Epoch 54/60\n",
            "53/54 [============================>.] - ETA: 0s - loss: 1.3201 - accuracy: 0.4738\n",
            "Epoch 54: val_accuracy did not improve from 0.47913\n",
            "54/54 [==============================] - 30s 545ms/step - loss: 1.3216 - accuracy: 0.4732 - val_loss: 1.3721 - val_accuracy: 0.4480\n",
            "Epoch 55/60\n",
            "53/54 [============================>.] - ETA: 0s - loss: 1.3108 - accuracy: 0.4716\n",
            "Epoch 55: val_accuracy improved from 0.47913 to 0.48266, saving model to /content/gdrive/MyDrive/final_cnn_model_checkpoint2.h5\n",
            "54/54 [==============================] - 30s 548ms/step - loss: 1.3115 - accuracy: 0.4714 - val_loss: 1.3149 - val_accuracy: 0.4827\n",
            "Epoch 56/60\n",
            "53/54 [============================>.] - ETA: 0s - loss: 1.2883 - accuracy: 0.4835\n",
            "Epoch 56: val_accuracy improved from 0.48266 to 0.48912, saving model to /content/gdrive/MyDrive/final_cnn_model_checkpoint2.h5\n",
            "54/54 [==============================] - 29s 536ms/step - loss: 1.2883 - accuracy: 0.4838 - val_loss: 1.2602 - val_accuracy: 0.4891\n",
            "Epoch 57/60\n",
            "53/54 [============================>.] - ETA: 0s - loss: 1.2720 - accuracy: 0.4819\n",
            "Epoch 57: val_accuracy improved from 0.48912 to 0.49089, saving model to /content/gdrive/MyDrive/final_cnn_model_checkpoint2.h5\n",
            "54/54 [==============================] - 28s 526ms/step - loss: 1.2723 - accuracy: 0.4818 - val_loss: 1.2491 - val_accuracy: 0.4909\n",
            "Epoch 58/60\n",
            "53/54 [============================>.] - ETA: 0s - loss: 1.2788 - accuracy: 0.4903\n",
            "Epoch 58: val_accuracy did not improve from 0.49089\n",
            "54/54 [==============================] - 28s 520ms/step - loss: 1.2777 - accuracy: 0.4907 - val_loss: 1.4049 - val_accuracy: 0.4480\n",
            "Epoch 59/60\n",
            "53/54 [============================>.] - ETA: 0s - loss: 1.2806 - accuracy: 0.4881\n",
            "Epoch 59: val_accuracy did not improve from 0.49089\n",
            "54/54 [==============================] - 28s 521ms/step - loss: 1.2804 - accuracy: 0.4883 - val_loss: 1.3200 - val_accuracy: 0.4662\n",
            "Epoch 60/60\n",
            "53/54 [============================>.] - ETA: 0s - loss: 1.2520 - accuracy: 0.4957\n",
            "Epoch 60: val_accuracy did not improve from 0.49089\n",
            "54/54 [==============================] - 28s 518ms/step - loss: 1.2524 - accuracy: 0.4955 - val_loss: 1.3417 - val_accuracy: 0.4568\n"
          ]
        }
      ]
    },
    {
      "cell_type": "code",
      "source": [
        "y[222]"
      ],
      "metadata": {
        "id": "4K5NdCUorTdE",
        "colab": {
          "base_uri": "https://localhost:8080/"
        },
        "outputId": "899d96a5-80c7-49bf-a792-a9cd7805a5bd"
      },
      "execution_count": null,
      "outputs": [
        {
          "output_type": "execute_result",
          "data": {
            "text/plain": [
              "array([0., 0., 0., 0., 0., 0., 1.], dtype=float32)"
            ]
          },
          "metadata": {},
          "execution_count": 20
        }
      ]
    },
    {
      "cell_type": "code",
      "source": [],
      "metadata": {
        "id": "ViOdd8w5kQYk"
      },
      "execution_count": null,
      "outputs": []
    },
    {
      "cell_type": "code",
      "source": [],
      "metadata": {
        "id": "naHQDC5NMHYa"
      },
      "execution_count": null,
      "outputs": []
    },
    {
      "cell_type": "code",
      "source": [],
      "metadata": {
        "id": "nhMrLvLnefK8"
      },
      "execution_count": null,
      "outputs": []
    }
  ]
}